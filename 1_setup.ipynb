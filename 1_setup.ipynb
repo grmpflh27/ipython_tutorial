{
 "cells": [
  {
   "cell_type": "markdown",
   "metadata": {},
   "source": [
    "## 1_setup"
   ]
  },
  {
   "cell_type": "code",
   "execution_count": null,
   "metadata": {
    "collapsed": false
   },
   "outputs": [],
   "source": [
    "!pip install ipython"
   ]
  },
  {
   "cell_type": "markdown",
   "metadata": {},
   "source": [
    "## startup\n",
    "\n",
    "prefix with ! to access system shell"
   ]
  },
  {
   "cell_type": "code",
   "execution_count": null,
   "metadata": {
    "collapsed": true
   },
   "outputs": [],
   "source": [
    "!ipython notebook"
   ]
  },
  {
   "cell_type": "code",
   "execution_count": null,
   "metadata": {
    "collapsed": false
   },
   "outputs": [],
   "source": [
    "!ipython qtconsole"
   ]
  },
  {
   "cell_type": "code",
   "execution_count": null,
   "metadata": {
    "collapsed": false
   },
   "outputs": [],
   "source": [
    "#don't do this in here\n",
    "#!ipython"
   ]
  },
  {
   "cell_type": "markdown",
   "metadata": {},
   "source": [
    "## A few shortcuts\n",
    "\n",
    "### Running cells\n",
    "\n",
    "* enter => enter **edit** mode\n",
    "* esc => enter **cmd** mode\n",
    "* shift + enter => execute cell and advance to next one\n",
    "* alt + enter => execute cell and insert empty cell below\n",
    "* ctrl + enter => execute cell and keep current cell selected\n",
    "* (in cmd) a => create new **above** below current\n",
    "* (in cmd) b => create new **cell** below current"
   ]
  },
  {
   "cell_type": "code",
   "execution_count": null,
   "metadata": {
    "collapsed": true
   },
   "outputs": [],
   "source": [
    "#a good starting point\n",
    "%quickref"
   ]
  },
  {
   "cell_type": "markdown",
   "metadata": {},
   "source": [
    "## Creating a profile, editing standard profile\n",
    "\n",
    "* standard imports on session startup\n",
    "* customize standard editor\n",
    "\n",
    "==> https://urthecast.atlassian.net/wiki/display/UGSAR/Ipython+trickery"
   ]
  },
  {
   "cell_type": "code",
   "execution_count": null,
   "metadata": {
    "collapsed": false
   },
   "outputs": [],
   "source": [
    "# run this to copy over the provided ipython profile called num\n",
    "import os\n",
    "\n",
    "src_dir = os.path.join(os.getcwd(), 'profile_num')\n",
    "dst_dir = os.path.join(os.path.expanduser('~'), '.ipython', 'profile_num')\n",
    "\n",
    "if not os.path.exists(dst_dir):\n",
    "    !cp -R $src_dir $dst_dir"
   ]
  },
  {
   "cell_type": "code",
   "execution_count": null,
   "metadata": {
    "collapsed": false
   },
   "outputs": [],
   "source": [
    "#run ipython session with newly created profile\n",
    "!ipython qtconsole --profile=num"
   ]
  },
  {
   "cell_type": "markdown",
   "metadata": {},
   "source": [
    "this will automatically import the following packages on session startup:\n",
    "\n",
    "* import numpy as np\n",
    "* import matplotlib.pyplot as plt\n",
    "* import pandas as pd\n",
    "* import scipy\n",
    "* import tifffile\n",
    "* import gdal"
   ]
  },
  {
   "cell_type": "code",
   "execution_count": null,
   "metadata": {
    "collapsed": true
   },
   "outputs": [],
   "source": []
  }
 ],
 "metadata": {
  "kernelspec": {
   "display_name": "Python 2",
   "language": "python",
   "name": "python2"
  },
  "language_info": {
   "codemirror_mode": {
    "name": "ipython",
    "version": 2
   },
   "file_extension": ".py",
   "mimetype": "text/x-python",
   "name": "python",
   "nbconvert_exporter": "python",
   "pygments_lexer": "ipython2",
   "version": "2.7.9"
  }
 },
 "nbformat": 4,
 "nbformat_minor": 0
}
