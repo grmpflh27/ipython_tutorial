{
 "cells": [
  {
   "cell_type": "markdown",
   "metadata": {},
   "source": [
    "## 5_exporting_and_sharing\n",
    "\n",
    "### exporting notebooks"
   ]
  },
  {
   "cell_type": "code",
   "execution_count": null,
   "metadata": {
    "collapsed": false
   },
   "outputs": [],
   "source": [
    "import os\n",
    "script_path = os.path.join(os.getcwd(), \"full.ipynb\")"
   ]
  },
  {
   "cell_type": "code",
   "execution_count": null,
   "metadata": {
    "collapsed": false
   },
   "outputs": [],
   "source": [
    "!ipython nbconvert $script_path --to python"
   ]
  },
  {
   "cell_type": "code",
   "execution_count": null,
   "metadata": {
    "collapsed": false
   },
   "outputs": [],
   "source": [
    "%pfile full.py"
   ]
  },
  {
   "cell_type": "code",
   "execution_count": null,
   "metadata": {
    "collapsed": false
   },
   "outputs": [],
   "source": [
    "!ipython nbconvert $script_path --to html"
   ]
  },
  {
   "cell_type": "code",
   "execution_count": null,
   "metadata": {
    "collapsed": false
   },
   "outputs": [],
   "source": [
    "!open full.html"
   ]
  },
  {
   "cell_type": "markdown",
   "metadata": {},
   "source": [
    "### converting to ipynb\n",
    "\n",
    "NOTE: could not get this to work!"
   ]
  },
  {
   "cell_type": "code",
   "execution_count": null,
   "metadata": {
    "collapsed": true
   },
   "outputs": [],
   "source": [
    "mosart_py_path=\"/Users/tbeyer/gitLab_repos/SAR/sar-xl-em-processor/src/mosart.py\""
   ]
  },
  {
   "cell_type": "code",
   "execution_count": null,
   "metadata": {
    "collapsed": false
   },
   "outputs": [],
   "source": [
    "import IPython.nbformat.current as nbf\n",
    "nb = nbf.read(open(mosart_py_path, 'rb'), 'py')\n",
    "nbf.write(nb, open('mosart.ipynb', 'w'), 'ipynb')"
   ]
  },
  {
   "cell_type": "markdown",
   "metadata": {},
   "source": [
    "## Sharing notebooks\n",
    "\n",
    "https://github.com/jupyter/nbviewer\n",
    "\n",
    "**Quote:**\n",
    "Jupyter nbviewer is the web application behind The Jupyter Notebook Viewer, which is graciously hosted by Rackspace.\n",
    "\n",
    "Run this locally to get most of the features of nbviewer on your own network.\n",
    "\n",
    "If you need help using or installing Jupyter Notebook Viewer, please use the jupyter/help issue tracker.\n",
    "\n",
    "\n",
    "\n",
    "* e.g. http://nbviewer.jupyter.org/github/grmpflh27/ipython_train/blob/master/pandas/pandas_advanced/Pandas_advanced.ipynb"
   ]
  },
  {
   "cell_type": "markdown",
   "metadata": {},
   "source": [
    "### Alternatives to run ipython\n",
    "\n",
    "Quote from: https://plot.ly/python/ipython-notebook-tutorial/\n",
    "\n",
    "* Anaconda and Enthought allow you to download a desktop version of IPython Notebook.\n",
    "* coLaboratory allows you to run Notebooks using Google Chrome.\n",
    "* Docker containers let you run Notebooks.\n",
    "* Domino, Authorea, and Wakari offer web-based Notebooks.\n",
    "* tmpnb launches a temporary online Notebook for individual users.\n",
    "* Hosted services like Sciencebox let users launch a prebuilt virtual machine.\n"
   ]
  },
  {
   "cell_type": "markdown",
   "metadata": {},
   "source": [
    "## More resources\n",
    "\n",
    "#### Collection of notebooks\n",
    "* http://nbviewer.jupyter.org\n",
    "\n",
    "#### Tutorials\n",
    "* https://ipython.org/ipython-doc/2/interactive/tutorial.html\n",
    "* https://ipython.org/ipython-doc/3/interactive/magics.html\n",
    "* http://www.randalolson.com/2012/05/12/a-short-demo-on-how-to-use-ipython-notebook-as-a-research-notebook/\n",
    "* https://plot.ly/python/ipython-notebook-tutorial/"
   ]
  }
 ],
 "metadata": {
  "kernelspec": {
   "display_name": "Python 2",
   "language": "python",
   "name": "python2"
  },
  "language_info": {
   "codemirror_mode": {
    "name": "ipython",
    "version": 2
   },
   "file_extension": ".py",
   "mimetype": "text/x-python",
   "name": "python",
   "nbconvert_exporter": "python",
   "pygments_lexer": "ipython2",
   "version": "2.7.9"
  }
 },
 "nbformat": 4,
 "nbformat_minor": 0
}
