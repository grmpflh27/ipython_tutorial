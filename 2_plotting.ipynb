{
 "cells": [
  {
   "cell_type": "markdown",
   "metadata": {},
   "source": [
    "## 2_Plotting \n"
   ]
  },
  {
   "cell_type": "code",
   "execution_count": null,
   "metadata": {
    "collapsed": false,
    "scrolled": true
   },
   "outputs": [],
   "source": [
    "#enables inline plotting\n",
    "%matplotlib inline"
   ]
  },
  {
   "cell_type": "code",
   "execution_count": null,
   "metadata": {
    "collapsed": false
   },
   "outputs": [],
   "source": [
    "number_of_points = 10000\n",
    "t = np.linspace(0, 10 * np.pi, number_of_points)\n",
    "plt.plot(np.sin(t))"
   ]
  },
  {
   "cell_type": "markdown",
   "metadata": {
    "collapsed": false
   },
   "source": [
    "### TODO: \n",
    "* add plot of np.cos(t) in same figure\n",
    "* add some randomness to t and plot "
   ]
  },
  {
   "cell_type": "markdown",
   "metadata": {
    "collapsed": false,
    "scrolled": false
   },
   "source": [
    "### Programmatically updating a plot\n",
    "\n",
    "e.g. plotting exponential function of increasing order"
   ]
  },
  {
   "cell_type": "code",
   "execution_count": null,
   "metadata": {
    "collapsed": true
   },
   "outputs": [],
   "source": [
    "expo = 1"
   ]
  },
  {
   "cell_type": "code",
   "execution_count": null,
   "metadata": {
    "collapsed": false
   },
   "outputs": [],
   "source": [
    "x_values = np.arange(0.0, 10.0, 0.05)\n",
    "y_potent = x_values ** expo\n",
    "\n",
    "plt.plot(x_values, y_potent, label='exp_{}'.format(expo))\n",
    "plt.title('exponent: {}'.format(expo))\n",
    "expo += 1\n",
    "plt.legend()"
   ]
  },
  {
   "cell_type": "markdown",
   "metadata": {},
   "source": [
    "## Getting help \n",
    "\n",
    "* tab completion\n",
    "* shift + tab \n",
    "* fct? or \n",
    "* fct??"
   ]
  },
  {
   "cell_type": "code",
   "execution_count": null,
   "metadata": {
    "collapsed": true
   },
   "outputs": [],
   "source": [
    "np.ndindex("
   ]
  },
  {
   "cell_type": "markdown",
   "metadata": {},
   "source": [
    "## Modifying cells\n",
    "\n",
    "(in cmd mode)\n",
    "* A => insert cell above currently selected\n",
    "* B => insert cell below currently selected\n",
    "* DD => delete current cell\n",
    "* Z => undo last delete"
   ]
  },
  {
   "cell_type": "markdown",
   "metadata": {},
   "source": [
    "### TODO: \n",
    "* generate a sorted random array of length 500 and plot the square of each value.\n",
    "* furthermore print out the minimum and maximum square value\n",
    "\n",
    "#### BONUS (if you are done early): \n",
    "* programmatically change the exponent\n",
    "* record the current function in the title (superfancy: using LaTeX (\\$...\\$))\n",
    "\n",
    "If you do not know the commands use data introspection (e.g. np. + shift)"
   ]
  },
  {
   "cell_type": "code",
   "execution_count": null,
   "metadata": {
    "collapsed": true
   },
   "outputs": [],
   "source": [
    "#write some magical code here"
   ]
  },
  {
   "cell_type": "code",
   "execution_count": null,
   "metadata": {
    "collapsed": true
   },
   "outputs": [],
   "source": []
  },
  {
   "cell_type": "code",
   "execution_count": null,
   "metadata": {
    "collapsed": true
   },
   "outputs": [],
   "source": [
    "\n"
   ]
  },
  {
   "cell_type": "code",
   "execution_count": null,
   "metadata": {
    "collapsed": false
   },
   "outputs": [],
   "source": [
    "#GARBAGE BASIC CODE *delete this before you even read it*\n",
    "10 i = 0\n",
    "20 i = i + 1\n",
    "30 PRINT i; \" squared = \"; i * i\n",
    "40 IF i >= 10 THEN GOTO 60\n",
    "50 GOTO 20\n",
    "60 PRINT \"Program Completed.\"\n",
    "70 END"
   ]
  }
 ],
 "metadata": {
  "kernelspec": {
   "display_name": "Python 2",
   "language": "python",
   "name": "python2"
  },
  "language_info": {
   "codemirror_mode": {
    "name": "ipython",
    "version": 2
   },
   "file_extension": ".py",
   "mimetype": "text/x-python",
   "name": "python",
   "nbconvert_exporter": "python",
   "pygments_lexer": "ipython2",
   "version": "2.7.9"
  }
 },
 "nbformat": 4,
 "nbformat_minor": 0
}
